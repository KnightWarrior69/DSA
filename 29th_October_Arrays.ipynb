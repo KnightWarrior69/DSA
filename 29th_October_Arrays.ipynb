{
 "cells": [
  {
   "cell_type": "markdown",
   "id": "27db98f4-04b2-4fbd-b376-f311435edd75",
   "metadata": {},
   "source": [
    "1. Given an array, check if it contains any duplicates or not.\n",
    "arr = [1, 2, 4, 2, 5, 9]\n",
    "Output = True"
   ]
  },
  {
   "cell_type": "code",
   "execution_count": 7,
   "id": "5318ba95-a557-4a35-9fe0-f813ddc45002",
   "metadata": {},
   "outputs": [
    {
     "data": {
      "text/plain": [
       "True"
      ]
     },
     "execution_count": 7,
     "metadata": {},
     "output_type": "execute_result"
    }
   ],
   "source": [
    "#Time Complexity O(1)\n",
    "\n",
    "def checkduplicate1(arr):\n",
    "    if len(arr) == len(set(arr)):\n",
    "        return False\n",
    "    else:\n",
    "        return True\n",
    "    \n",
    "#Driver Code\n",
    "arr = [1,2,4,5,9,4]\n",
    "checkduplicate1(arr)"
   ]
  },
  {
   "cell_type": "code",
   "execution_count": 8,
   "id": "5b9368ae-908c-47b4-bfa4-f82c7a44fff9",
   "metadata": {},
   "outputs": [
    {
     "data": {
      "text/plain": [
       "True"
      ]
     },
     "execution_count": 8,
     "metadata": {},
     "output_type": "execute_result"
    }
   ],
   "source": [
    "#Time Complexity - O(n^2)\n",
    "\n",
    "def checkduplicate2(arr):\n",
    "    for i in range(len(arr)):\n",
    "        for j in range(i+1, len(arr)):\n",
    "            if arr[i] == arr[j]:\n",
    "                return True\n",
    "    \n",
    "    return False\n",
    "\n",
    "\n",
    "\n",
    "#Driver code\n",
    "arr = [1,2,4,5,9,4]\n",
    "checkduplicate2(arr)"
   ]
  },
  {
   "cell_type": "markdown",
   "id": "576468a2-d758-44ca-b045-26f9b90b2c12",
   "metadata": {},
   "source": [
    "2. Given an array and an integer k, rotate the array to the right by k steps.\n",
    "arr = [1, 2, 3, 4, 5, 6, 7] k = 3\n",
    "Output = [5, 6, 7, 1, 2, 3, 4]"
   ]
  },
  {
   "cell_type": "code",
   "execution_count": 21,
   "id": "5885477c-e244-41d1-9212-09ec7f4633f3",
   "metadata": {},
   "outputs": [
    {
     "data": {
      "text/plain": [
       "[5, 6, 7, 1, 2, 3, 4]"
      ]
     },
     "execution_count": 21,
     "metadata": {},
     "output_type": "execute_result"
    }
   ],
   "source": [
    "#time Complexity O(1)\n",
    "def rotate(arr,k):\n",
    "    x = arr[-k:]+arr[:-k]\n",
    "    return x\n",
    "\n",
    "#Driver Code\n",
    "arr = [1,2,3,4,5,6,7]\n",
    "k = 3\n",
    "rotate(arr,k)"
   ]
  },
  {
   "cell_type": "markdown",
   "id": "d2f70ea6-ef14-46d4-8232-fb7842a10ec1",
   "metadata": {},
   "source": [
    "3. Reverse the given array in-place, means without using any extra data structure.\n",
    "arr = [2, 4, 5, 7, 9, 12]\n",
    "Output = [12, 9, 7, 5, 4, 2]"
   ]
  },
  {
   "cell_type": "code",
   "execution_count": 10,
   "id": "99154fad-df6e-4da4-a6e6-a28aea1e2ab6",
   "metadata": {},
   "outputs": [
    {
     "data": {
      "text/plain": [
       "[12, 9, 7, 5, 4, 2]"
      ]
     },
     "execution_count": 10,
     "metadata": {},
     "output_type": "execute_result"
    }
   ],
   "source": [
    "#Time Complexity O(1)\n",
    "\n",
    "def reverse(arr):\n",
    "    arr = arr[::-1]\n",
    "    return arr\n",
    "\n",
    "\n",
    "\n",
    "#Driver Code\n",
    "arr = [2,4,5,7,9,12]\n",
    "reverse(arr)"
   ]
  },
  {
   "cell_type": "markdown",
   "id": "f8c32cda-41ae-4980-bc89-cc1f53f542d1",
   "metadata": {},
   "source": [
    "4. Given an array of integers, find the maximum element in an array\n",
    "arr = [10, 5, 20, 8, 15]\n",
    "Output = 20"
   ]
  },
  {
   "cell_type": "code",
   "execution_count": 11,
   "id": "72940fab-d110-4b06-be12-206baa98c8df",
   "metadata": {},
   "outputs": [
    {
     "data": {
      "text/plain": [
       "20"
      ]
     },
     "execution_count": 11,
     "metadata": {},
     "output_type": "execute_result"
    }
   ],
   "source": [
    "#Time Complexity O(1)\n",
    "\n",
    "def max_element(arr):\n",
    "    return max(arr)\n",
    "\n",
    "\n",
    "#Driver Code\n",
    "arr = [10,5,20,8,15]\n",
    "max_element(arr)"
   ]
  },
  {
   "cell_type": "markdown",
   "id": "dc699bd9-0be2-44bf-a65d-76878aa28fd6",
   "metadata": {},
   "source": [
    "5. Given a sorted array, remove the duplicate element without using any extra data structure.\n",
    "arr = [1, 1, 2, 2, 2, 3, 3, 4, 4, 4, 5, 5]\n",
    "Output = [1, 2, 3, 4, 5]"
   ]
  },
  {
   "cell_type": "code",
   "execution_count": 12,
   "id": "abe22120-8699-4e2a-891d-5097a17d4467",
   "metadata": {},
   "outputs": [
    {
     "data": {
      "text/plain": [
       "[1, 2, 3, 4, 5]"
      ]
     },
     "execution_count": 12,
     "metadata": {},
     "output_type": "execute_result"
    }
   ],
   "source": [
    "#Time Complexity O(1)\n",
    "\n",
    "def remove_duplicate(arr):\n",
    "    return list(set(arr))\n",
    "\n",
    "    \n",
    "#Driver Code\n",
    "arr=[1,1,2,2,2,3,3,4,4,4,5,5]\n",
    "remove_duplicate(arr)"
   ]
  },
  {
   "cell_type": "code",
   "execution_count": null,
   "id": "d4b70799-1250-412f-ad86-e7f96a3d4380",
   "metadata": {},
   "outputs": [],
   "source": []
  }
 ],
 "metadata": {
  "kernelspec": {
   "display_name": "Python 3 (ipykernel)",
   "language": "python",
   "name": "python3"
  },
  "language_info": {
   "codemirror_mode": {
    "name": "ipython",
    "version": 3
   },
   "file_extension": ".py",
   "mimetype": "text/x-python",
   "name": "python",
   "nbconvert_exporter": "python",
   "pygments_lexer": "ipython3",
   "version": "3.10.8"
  }
 },
 "nbformat": 4,
 "nbformat_minor": 5
}
